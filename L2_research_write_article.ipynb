{
 "cells": [
  {
   "cell_type": "markdown",
   "metadata": {},
   "source": [
    "You can download the `requirements.txt` for this course from the workspace of this lab. `File --> Open...`"
   ]
  },
  {
   "cell_type": "markdown",
   "metadata": {},
   "source": [
    "# L2: Create Agents to Research and Write an Article\n",
    "\n",
    "In this lesson, you will be introduced to the foundational concepts of multi-agent systems and get an overview of the crewAI framework."
   ]
  },
  {
   "cell_type": "markdown",
   "metadata": {},
   "source": [
    "The libraries are already installed in the classroom. If you're running this notebook on your own machine, you can install the following:\n",
    "```Python\n",
    "!pip install crewai==0.28.8 crewai_tools==0.1.6 langchain_community==0.0.29\n",
    "```"
   ]
  },
  {
   "cell_type": "code",
   "execution_count": 1,
   "metadata": {
    "height": 64
   },
   "outputs": [],
   "source": [
    "# Warning control\n",
    "import warnings\n",
    "warnings.filterwarnings('ignore')"
   ]
  },
  {
   "cell_type": "markdown",
   "metadata": {},
   "source": [
    "- Import from the crewAI libray."
   ]
  },
  {
   "cell_type": "code",
   "execution_count": 2,
   "metadata": {
    "height": 30
   },
   "outputs": [],
   "source": [
    "from crewai import Agent, Task, Crew"
   ]
  },
  {
   "cell_type": "markdown",
   "metadata": {},
   "source": [
    "- As a LLM for your agents, you'll be using OpenAI's `gpt-3.5-turbo`.\n",
    "\n",
    "**Optional Note:** crewAI also allow other popular models to be used as a LLM for your Agents. You can see some of the examples at the [bottom of the notebook](#1)."
   ]
  },
  {
   "cell_type": "code",
   "execution_count": 3,
   "metadata": {
    "height": 98
   },
   "outputs": [],
   "source": [
    "import os\n",
    "from utils import get_openai_api_key\n",
    "\n",
    "openai_api_key = get_openai_api_key()\n",
    "os.environ[\"OPENAI_MODEL_NAME\"] = 'gpt-3.5-turbo'"
   ]
  },
  {
   "cell_type": "markdown",
   "metadata": {},
   "source": [
    "## Creating Agents\n",
    "\n",
    "- Define your Agents, and provide them a `role`, `goal` and `backstory`.\n",
    "- It has been seen that LLMs perform better when they are role playing."
   ]
  },
  {
   "cell_type": "markdown",
   "metadata": {},
   "source": [
    "### Agent: Planner\n",
    "\n",
    "**Note**: The benefit of using _multiple strings_ :\n",
    "```Python\n",
    "varname = \"line 1 of text\"\n",
    "          \"line 2 of text\"\n",
    "```\n",
    "\n",
    "versus the _triple quote docstring_:\n",
    "```Python\n",
    "varname = \"\"\"line 1 of text\n",
    "             line 2 of text\n",
    "          \"\"\"\n",
    "```\n",
    "is that it can avoid adding those whitespaces and newline characters, making it better formatted to be passed to the LLM."
   ]
  },
  {
   "cell_type": "code",
   "execution_count": 4,
   "metadata": {
    "height": 234
   },
   "outputs": [],
   "source": [
    "planner = Agent(\n",
    "    role=\"Content Planner\",\n",
    "    goal=\"Plan engaging and factually accurate content on {topic}\",\n",
    "    backstory=\"You're working on planning a blog article \"\n",
    "              \"about the topic: {topic}.\"\n",
    "              \"You collect information that helps the \"\n",
    "              \"audience learn something \"\n",
    "              \"and make informed decisions. \"\n",
    "              \"Your work is the basis for \"\n",
    "              \"the Content Writer to write an article on this topic.\",\n",
    "    allow_delegation=False,\n",
    "\tverbose=True\n",
    ")"
   ]
  },
  {
   "cell_type": "markdown",
   "metadata": {},
   "source": [
    "### Agent: Writer"
   ]
  },
  {
   "cell_type": "code",
   "execution_count": 5,
   "metadata": {
    "height": 370
   },
   "outputs": [],
   "source": [
    "writer = Agent(\n",
    "    role=\"Content Writer\",\n",
    "    goal=\"Write insightful and factually accurate \"\n",
    "         \"opinion piece about the topic: {topic}\",\n",
    "    backstory=\"You're working on a writing \"\n",
    "              \"a new opinion piece about the topic: {topic}. \"\n",
    "              \"You base your writing on the work of \"\n",
    "              \"the Content Planner, who provides an outline \"\n",
    "              \"and relevant context about the topic. \"\n",
    "              \"You follow the main objectives and \"\n",
    "              \"direction of the outline, \"\n",
    "              \"as provide by the Content Planner. \"\n",
    "              \"You also provide objective and impartial insights \"\n",
    "              \"and back them up with information \"\n",
    "              \"provide by the Content Planner. \"\n",
    "              \"You acknowledge in your opinion piece \"\n",
    "              \"when your statements are opinions \"\n",
    "              \"as opposed to objective statements.\",\n",
    "    allow_delegation=False,\n",
    "    verbose=True\n",
    ")"
   ]
  },
  {
   "cell_type": "markdown",
   "metadata": {},
   "source": [
    "### Agent: Editor"
   ]
  },
  {
   "cell_type": "code",
   "execution_count": 6,
   "metadata": {
    "height": 268
   },
   "outputs": [],
   "source": [
    "editor = Agent(\n",
    "    role=\"Editor\",\n",
    "    goal=\"Edit a given blog post to align with \"\n",
    "         \"the writing style of the organization. \",\n",
    "    backstory=\"You are an editor who receives a blog post \"\n",
    "              \"from the Content Writer. \"\n",
    "              \"Your goal is to review the blog post \"\n",
    "              \"to ensure that it follows journalistic best practices,\"\n",
    "              \"provides balanced viewpoints \"\n",
    "              \"when providing opinions or assertions, \"\n",
    "              \"and also avoids major controversial topics \"\n",
    "              \"or opinions when possible.\",\n",
    "    allow_delegation=False,\n",
    "    verbose=True\n",
    ")"
   ]
  },
  {
   "cell_type": "markdown",
   "metadata": {},
   "source": [
    "## Creating Tasks\n",
    "\n",
    "- Define your Tasks, and provide them a `description`, `expected_output` and `agent`."
   ]
  },
  {
   "cell_type": "markdown",
   "metadata": {},
   "source": [
    "### Task: Plan"
   ]
  },
  {
   "cell_type": "code",
   "execution_count": 7,
   "metadata": {
    "height": 268
   },
   "outputs": [],
   "source": [
    "plan = Task(\n",
    "    description=(\n",
    "        \"1. Prioritize the latest trends, key players, \"\n",
    "            \"and noteworthy news on {topic}.\\n\"\n",
    "        \"2. Identify the target audience, considering \"\n",
    "            \"their interests and pain points.\\n\"\n",
    "        \"3. Develop a detailed content outline including \"\n",
    "            \"an introduction, key points, and a call to action.\\n\"\n",
    "        \"4. Include SEO keywords and relevant data or sources.\"\n",
    "    ),\n",
    "    expected_output=\"A comprehensive content plan document \"\n",
    "        \"with an outline, audience analysis, \"\n",
    "        \"SEO keywords, and resources.\",\n",
    "    agent=planner,\n",
    ")"
   ]
  },
  {
   "cell_type": "markdown",
   "metadata": {},
   "source": [
    "### Task: Write"
   ]
  },
  {
   "cell_type": "code",
   "execution_count": 8,
   "metadata": {
    "height": 319
   },
   "outputs": [],
   "source": [
    "write = Task(\n",
    "    description=(\n",
    "        \"1. Use the content plan to craft a compelling \"\n",
    "            \"blog post on {topic}.\\n\"\n",
    "        \"2. Incorporate SEO keywords naturally.\\n\"\n",
    "\t\t\"3. Sections/Subtitles are properly named \"\n",
    "            \"in an engaging manner.\\n\"\n",
    "        \"4. Ensure the post is structured with an \"\n",
    "            \"engaging introduction, insightful body, \"\n",
    "            \"and a summarizing conclusion.\\n\"\n",
    "        \"5. Proofread for grammatical errors and \"\n",
    "            \"alignment with the brand's voice.\\n\"\n",
    "    ),\n",
    "    expected_output=\"A well-written blog post \"\n",
    "        \"in markdown format, ready for publication, \"\n",
    "        \"each section should have 2 or 3 paragraphs.\",\n",
    "    agent=writer,\n",
    ")"
   ]
  },
  {
   "cell_type": "markdown",
   "metadata": {},
   "source": [
    "### Task: Edit"
   ]
  },
  {
   "cell_type": "code",
   "execution_count": 9,
   "metadata": {
    "height": 166
   },
   "outputs": [],
   "source": [
    "edit = Task(\n",
    "    description=(\"Proofread the given blog post for \"\n",
    "                 \"grammatical errors and \"\n",
    "                 \"alignment with the brand's voice.\"),\n",
    "    expected_output=\"A well-written blog post in markdown format, \"\n",
    "                    \"ready for publication, \"\n",
    "                    \"each section should have 2 or 3 paragraphs.\",\n",
    "    agent=editor\n",
    ")"
   ]
  },
  {
   "cell_type": "markdown",
   "metadata": {},
   "source": [
    "## Creating the Crew\n",
    "\n",
    "- Create your crew of Agents\n",
    "- Pass the tasks to be performed by those agents.\n",
    "    - **Note**: *For this simple example*, the tasks will be performed sequentially (i.e they are dependent on each other), so the _order_ of the task in the list _matters_.\n",
    "- `verbose=2` allows you to see all the logs of the execution. "
   ]
  },
  {
   "cell_type": "code",
   "execution_count": 10,
   "metadata": {
    "height": 98
   },
   "outputs": [],
   "source": [
    "crew = Crew(\n",
    "    agents=[planner, writer, editor],\n",
    "    tasks=[plan, write, edit],\n",
    "    verbose=2\n",
    ")"
   ]
  },
  {
   "cell_type": "markdown",
   "metadata": {},
   "source": [
    "## Running the Crew"
   ]
  },
  {
   "cell_type": "markdown",
   "metadata": {},
   "source": [
    "**Note**: LLMs can provide different outputs for they same input, so what you get might be different than what you see in the video."
   ]
  },
  {
   "cell_type": "code",
   "execution_count": 11,
   "metadata": {
    "height": 30
   },
   "outputs": [
    {
     "name": "stdout",
     "output_type": "stream",
     "text": [
      "\u001b[1m\u001b[95m [DEBUG]: == Working Agent: Content Planner\u001b[00m\n",
      "\u001b[1m\u001b[95m [INFO]: == Starting Task: 1. Prioritize the latest trends, key players, and noteworthy news on Artificial Intelligence.\n",
      "2. Identify the target audience, considering their interests and pain points.\n",
      "3. Develop a detailed content outline including an introduction, key points, and a call to action.\n",
      "4. Include SEO keywords and relevant data or sources.\u001b[00m\n",
      "\n",
      "\n",
      "\u001b[1m> Entering new CrewAgentExecutor chain...\u001b[0m\n",
      "\u001b[32;1m\u001b[1;3mI now can give a great answer\n",
      "\n",
      "Final Answer:\n",
      "\n",
      "Content Plan: \n",
      "\n",
      "Title: The Future of Artificial Intelligence: Latest Trends and Key Players\n",
      "\n",
      "Outline:\n",
      "\n",
      "I. Introduction\n",
      "- Definition of Artificial Intelligence (AI)\n",
      "- Importance of AI in various industries\n",
      "- Brief overview of the latest trends and key players in the AI field\n",
      "\n",
      "II. Latest Trends in Artificial Intelligence\n",
      "- Machine learning and deep learning advancements\n",
      "- Natural Language Processing (NLP) developments\n",
      "- AI ethics and regulations\n",
      "- AI-powered automation and robotics\n",
      "\n",
      "III. Key Players in the AI Industry\n",
      "- Google\n",
      "- Amazon\n",
      "- Microsoft\n",
      "- IBM\n",
      "- Tesla\n",
      "- OpenAI\n",
      "\n",
      "IV. Noteworthy News in Artificial Intelligence\n",
      "- Recent breakthroughs in AI research\n",
      "- AI applications in healthcare, finance, and transportation\n",
      "- Impact of AI on job market and society\n",
      "- Future predictions for AI technology\n",
      "\n",
      "V. Target Audience Analysis\n",
      "- Tech-savvy individuals interested in the latest advancements in AI\n",
      "- Business professionals looking to implement AI solutions in their organizations\n",
      "- Students and researchers studying AI technology\n",
      "- Anyone curious about the future implications of AI on society\n",
      "\n",
      "VI. SEO Keywords\n",
      "- Artificial Intelligence trends\n",
      "- AI key players\n",
      "- Latest news on AI\n",
      "- Future of Artificial Intelligence\n",
      "- Artificial Intelligence developments\n",
      "\n",
      "VII. Resources\n",
      "- Forbes article on AI trends in 2021\n",
      "- Gartner report on top AI companies\n",
      "- TED Talk on the ethics of AI\n",
      "- Harvard Business Review article on AI in the workplace\n",
      "\n",
      "Call to Action: Stay informed about the latest trends and advancements in Artificial Intelligence by subscribing to our newsletter for regular updates on AI news and developments. \n",
      "\n",
      "By following this comprehensive content plan, the blog article on Artificial Intelligence will provide valuable insights and information to the target audience, helping them stay informed and make informed decisions in the rapidly evolving AI landscape.\u001b[0m\n",
      "\n",
      "\u001b[1m> Finished chain.\u001b[0m\n",
      "\u001b[1m\u001b[92m [DEBUG]: == [Content Planner] Task output: Content Plan: \n",
      "\n",
      "Title: The Future of Artificial Intelligence: Latest Trends and Key Players\n",
      "\n",
      "Outline:\n",
      "\n",
      "I. Introduction\n",
      "- Definition of Artificial Intelligence (AI)\n",
      "- Importance of AI in various industries\n",
      "- Brief overview of the latest trends and key players in the AI field\n",
      "\n",
      "II. Latest Trends in Artificial Intelligence\n",
      "- Machine learning and deep learning advancements\n",
      "- Natural Language Processing (NLP) developments\n",
      "- AI ethics and regulations\n",
      "- AI-powered automation and robotics\n",
      "\n",
      "III. Key Players in the AI Industry\n",
      "- Google\n",
      "- Amazon\n",
      "- Microsoft\n",
      "- IBM\n",
      "- Tesla\n",
      "- OpenAI\n",
      "\n",
      "IV. Noteworthy News in Artificial Intelligence\n",
      "- Recent breakthroughs in AI research\n",
      "- AI applications in healthcare, finance, and transportation\n",
      "- Impact of AI on job market and society\n",
      "- Future predictions for AI technology\n",
      "\n",
      "V. Target Audience Analysis\n",
      "- Tech-savvy individuals interested in the latest advancements in AI\n",
      "- Business professionals looking to implement AI solutions in their organizations\n",
      "- Students and researchers studying AI technology\n",
      "- Anyone curious about the future implications of AI on society\n",
      "\n",
      "VI. SEO Keywords\n",
      "- Artificial Intelligence trends\n",
      "- AI key players\n",
      "- Latest news on AI\n",
      "- Future of Artificial Intelligence\n",
      "- Artificial Intelligence developments\n",
      "\n",
      "VII. Resources\n",
      "- Forbes article on AI trends in 2021\n",
      "- Gartner report on top AI companies\n",
      "- TED Talk on the ethics of AI\n",
      "- Harvard Business Review article on AI in the workplace\n",
      "\n",
      "Call to Action: Stay informed about the latest trends and advancements in Artificial Intelligence by subscribing to our newsletter for regular updates on AI news and developments. \n",
      "\n",
      "By following this comprehensive content plan, the blog article on Artificial Intelligence will provide valuable insights and information to the target audience, helping them stay informed and make informed decisions in the rapidly evolving AI landscape.\n",
      "\n",
      "\u001b[00m\n",
      "\u001b[1m\u001b[95m [DEBUG]: == Working Agent: Content Writer\u001b[00m\n",
      "\u001b[1m\u001b[95m [INFO]: == Starting Task: 1. Use the content plan to craft a compelling blog post on Artificial Intelligence.\n",
      "2. Incorporate SEO keywords naturally.\n",
      "3. Sections/Subtitles are properly named in an engaging manner.\n",
      "4. Ensure the post is structured with an engaging introduction, insightful body, and a summarizing conclusion.\n",
      "5. Proofread for grammatical errors and alignment with the brand's voice.\n",
      "\u001b[00m\n",
      "\n",
      "\n",
      "\u001b[1m> Entering new CrewAgentExecutor chain...\u001b[0m\n",
      "\u001b[32;1m\u001b[1;3mI now can give a great answer.\n",
      "\n",
      "Final Answer:\n",
      "\n",
      "# The Future of Artificial Intelligence: Latest Trends and Key Players\n",
      "\n",
      "## Introduction\n",
      "\n",
      "Artificial Intelligence (AI) has become an integral part of various industries, revolutionizing the way businesses operate and enhancing efficiency and productivity. AI refers to the simulation of human intelligence processes by machines, including learning, reasoning, and self-correction. The importance of AI in industries such as healthcare, finance, transportation, and more cannot be overstated. The latest trends and key players in the AI field play a crucial role in shaping the future of technology and society as a whole.\n",
      "\n",
      "## Latest Trends in Artificial Intelligence\n",
      "\n",
      "Recent advancements in AI technology have paved the way for machine learning and deep learning, enabling systems to learn from data and improve performance without being explicitly programmed. Natural Language Processing (NLP) developments have also made significant progress, allowing machines to understand and generate human language. However, as AI continues to evolve, concerns surrounding ethics and regulations have become more prevalent. AI-powered automation and robotics are transforming industries by increasing efficiency and accuracy in operations.\n",
      "\n",
      "## Key Players in the AI Industry\n",
      "\n",
      "Leading tech companies such as Google, Amazon, Microsoft, IBM, Tesla, and OpenAI are at the forefront of AI innovation. These key players are driving advancements in AI technology and shaping the future of the industry. Google's deep learning projects, Amazon's AI-powered recommendations, and Tesla's self-driving technology are just a few examples of how these companies are revolutionizing the field of artificial intelligence.\n",
      "\n",
      "## Noteworthy News in Artificial Intelligence\n",
      "\n",
      "Recent breakthroughs in AI research have led to exciting applications in healthcare, finance, transportation, and more. AI is being used to improve patient care, streamline financial processes, and enhance transportation systems. However, the impact of AI on the job market and society remains a topic of debate. As AI technology continues to progress, future predictions suggest even greater advancements in the field, with implications for all aspects of society.\n",
      "\n",
      "## Target Audience Analysis\n",
      "\n",
      "Tech-savvy individuals, business professionals, students, and researchers interested in AI technology will find valuable insights in the latest trends and key players in the AI industry. By staying informed about the future implications of AI on society, individuals can make informed decisions and prepare for the rapidly evolving AI landscape.\n",
      "\n",
      "In conclusion, the future of artificial intelligence is bright, with exciting developments in machine learning, NLP, ethics, and automation. By following the latest trends and key players in the AI industry, individuals can stay informed and contribute to the ongoing advancements in technology. Stay informed about the latest trends and advancements in Artificial Intelligence by subscribing to our newsletter for regular updates on AI news and developments.\n",
      "\n",
      "*Stay informed, stay ahead!*\u001b[0m\n",
      "\n",
      "\u001b[1m> Finished chain.\u001b[0m\n",
      "\u001b[1m\u001b[92m [DEBUG]: == [Content Writer] Task output: # The Future of Artificial Intelligence: Latest Trends and Key Players\n",
      "\n",
      "## Introduction\n",
      "\n",
      "Artificial Intelligence (AI) has become an integral part of various industries, revolutionizing the way businesses operate and enhancing efficiency and productivity. AI refers to the simulation of human intelligence processes by machines, including learning, reasoning, and self-correction. The importance of AI in industries such as healthcare, finance, transportation, and more cannot be overstated. The latest trends and key players in the AI field play a crucial role in shaping the future of technology and society as a whole.\n",
      "\n",
      "## Latest Trends in Artificial Intelligence\n",
      "\n",
      "Recent advancements in AI technology have paved the way for machine learning and deep learning, enabling systems to learn from data and improve performance without being explicitly programmed. Natural Language Processing (NLP) developments have also made significant progress, allowing machines to understand and generate human language. However, as AI continues to evolve, concerns surrounding ethics and regulations have become more prevalent. AI-powered automation and robotics are transforming industries by increasing efficiency and accuracy in operations.\n",
      "\n",
      "## Key Players in the AI Industry\n",
      "\n",
      "Leading tech companies such as Google, Amazon, Microsoft, IBM, Tesla, and OpenAI are at the forefront of AI innovation. These key players are driving advancements in AI technology and shaping the future of the industry. Google's deep learning projects, Amazon's AI-powered recommendations, and Tesla's self-driving technology are just a few examples of how these companies are revolutionizing the field of artificial intelligence.\n",
      "\n",
      "## Noteworthy News in Artificial Intelligence\n",
      "\n",
      "Recent breakthroughs in AI research have led to exciting applications in healthcare, finance, transportation, and more. AI is being used to improve patient care, streamline financial processes, and enhance transportation systems. However, the impact of AI on the job market and society remains a topic of debate. As AI technology continues to progress, future predictions suggest even greater advancements in the field, with implications for all aspects of society.\n",
      "\n",
      "## Target Audience Analysis\n",
      "\n",
      "Tech-savvy individuals, business professionals, students, and researchers interested in AI technology will find valuable insights in the latest trends and key players in the AI industry. By staying informed about the future implications of AI on society, individuals can make informed decisions and prepare for the rapidly evolving AI landscape.\n",
      "\n",
      "In conclusion, the future of artificial intelligence is bright, with exciting developments in machine learning, NLP, ethics, and automation. By following the latest trends and key players in the AI industry, individuals can stay informed and contribute to the ongoing advancements in technology. Stay informed about the latest trends and advancements in Artificial Intelligence by subscribing to our newsletter for regular updates on AI news and developments.\n",
      "\n",
      "*Stay informed, stay ahead!*\n",
      "\n",
      "\u001b[00m\n",
      "\u001b[1m\u001b[95m [DEBUG]: == Working Agent: Editor\u001b[00m\n",
      "\u001b[1m\u001b[95m [INFO]: == Starting Task: Proofread the given blog post for grammatical errors and alignment with the brand's voice.\u001b[00m\n",
      "\n",
      "\n",
      "\u001b[1m> Entering new CrewAgentExecutor chain...\u001b[0m\n"
     ]
    },
    {
     "name": "stdout",
     "output_type": "stream",
     "text": [
      "\u001b[32;1m\u001b[1;3mI now can give a great answer\n",
      "\n",
      "Final Answer: \n",
      "\n",
      "# The Future of Artificial Intelligence: Latest Trends and Key Players\n",
      "\n",
      "Artificial Intelligence (AI) has become a fundamental component of various industries, reshaping the landscape of business operations and boosting efficiency and productivity. AI encompasses the replication of human intelligence processes by machines, including learning, reasoning, and self-correction. Its significance in sectors like healthcare, finance, transportation, and more is undeniable. The current trends and major players in the AI sector play a pivotal role in molding the future of technology and society at large.\n",
      "\n",
      "Recent strides in AI technology have laid the groundwork for machine learning and deep learning, empowering systems to enhance performance by learning from data without explicit programming. Noteworthy advancements in Natural Language Processing (NLP) have also taken place, enabling machines to comprehend and produce human language. Nonetheless, with the continuous evolution of AI, concerns related to ethics and regulations have gained prominence. AI-fueled automation and robotics are reshaping industries by boosting efficiency and precision in operations.\n",
      "\n",
      "Leading tech giants like Google, Amazon, Microsoft, IBM, Tesla, and OpenAI are spearheading AI innovation. These key players are propelling progress in AI technology and shaping the industry's future. Google's deep learning initiatives, Amazon's AI-driven recommendations, and Tesla's self-driving advancements are just a few examples of how these companies are revolutionizing the realm of artificial intelligence.\n",
      "\n",
      "Recent breakthroughs in AI research have led to promising applications in healthcare, finance, transportation, and more. AI is being leveraged to enhance patient care, streamline financial procedures, and elevate transportation systems. Nevertheless, the impact of AI on the job market and society remains a subject of debate. As AI technology advances further, future projections indicate even more substantial progress in the field, with implications for all facets of society.\n",
      "\n",
      "Tech-savvy individuals, business professionals, students, and researchers keen on AI technology will discover valuable insights in the latest trends and key players in the AI sector. By staying abreast of the forthcoming implications of AI on society, individuals can make informed decisions and brace themselves for the swiftly evolving AI landscape.\n",
      "\n",
      "In conclusion, the future of artificial intelligence appears promising, with remarkable developments in machine learning, NLP, ethics, and automation. By tracking the latest trends and key players in the AI industry, individuals can remain informed and contribute to the continuous advancements in technology. Keep up with the latest trends and advancements in Artificial Intelligence by subscribing to our newsletter for regular updates on AI news and developments.\n",
      "\n",
      "*Stay informed, stay ahead!*\u001b[0m\n",
      "\n",
      "\u001b[1m> Finished chain.\u001b[0m\n",
      "\u001b[1m\u001b[92m [DEBUG]: == [Editor] Task output: # The Future of Artificial Intelligence: Latest Trends and Key Players\n",
      "\n",
      "Artificial Intelligence (AI) has become a fundamental component of various industries, reshaping the landscape of business operations and boosting efficiency and productivity. AI encompasses the replication of human intelligence processes by machines, including learning, reasoning, and self-correction. Its significance in sectors like healthcare, finance, transportation, and more is undeniable. The current trends and major players in the AI sector play a pivotal role in molding the future of technology and society at large.\n",
      "\n",
      "Recent strides in AI technology have laid the groundwork for machine learning and deep learning, empowering systems to enhance performance by learning from data without explicit programming. Noteworthy advancements in Natural Language Processing (NLP) have also taken place, enabling machines to comprehend and produce human language. Nonetheless, with the continuous evolution of AI, concerns related to ethics and regulations have gained prominence. AI-fueled automation and robotics are reshaping industries by boosting efficiency and precision in operations.\n",
      "\n",
      "Leading tech giants like Google, Amazon, Microsoft, IBM, Tesla, and OpenAI are spearheading AI innovation. These key players are propelling progress in AI technology and shaping the industry's future. Google's deep learning initiatives, Amazon's AI-driven recommendations, and Tesla's self-driving advancements are just a few examples of how these companies are revolutionizing the realm of artificial intelligence.\n",
      "\n",
      "Recent breakthroughs in AI research have led to promising applications in healthcare, finance, transportation, and more. AI is being leveraged to enhance patient care, streamline financial procedures, and elevate transportation systems. Nevertheless, the impact of AI on the job market and society remains a subject of debate. As AI technology advances further, future projections indicate even more substantial progress in the field, with implications for all facets of society.\n",
      "\n",
      "Tech-savvy individuals, business professionals, students, and researchers keen on AI technology will discover valuable insights in the latest trends and key players in the AI sector. By staying abreast of the forthcoming implications of AI on society, individuals can make informed decisions and brace themselves for the swiftly evolving AI landscape.\n",
      "\n",
      "In conclusion, the future of artificial intelligence appears promising, with remarkable developments in machine learning, NLP, ethics, and automation. By tracking the latest trends and key players in the AI industry, individuals can remain informed and contribute to the continuous advancements in technology. Keep up with the latest trends and advancements in Artificial Intelligence by subscribing to our newsletter for regular updates on AI news and developments.\n",
      "\n",
      "*Stay informed, stay ahead!*\n",
      "\n",
      "\u001b[00m\n"
     ]
    }
   ],
   "source": [
    "result = crew.kickoff(inputs={\"topic\": \"Artificial Intelligence\"})"
   ]
  },
  {
   "cell_type": "markdown",
   "metadata": {},
   "source": [
    "- Display the results of your execution as markdown in the notebook."
   ]
  },
  {
   "cell_type": "code",
   "execution_count": 12,
   "metadata": {
    "height": 47
   },
   "outputs": [
    {
     "data": {
      "text/markdown": [
       "# The Future of Artificial Intelligence: Latest Trends and Key Players\n",
       "\n",
       "Artificial Intelligence (AI) has become a fundamental component of various industries, reshaping the landscape of business operations and boosting efficiency and productivity. AI encompasses the replication of human intelligence processes by machines, including learning, reasoning, and self-correction. Its significance in sectors like healthcare, finance, transportation, and more is undeniable. The current trends and major players in the AI sector play a pivotal role in molding the future of technology and society at large.\n",
       "\n",
       "Recent strides in AI technology have laid the groundwork for machine learning and deep learning, empowering systems to enhance performance by learning from data without explicit programming. Noteworthy advancements in Natural Language Processing (NLP) have also taken place, enabling machines to comprehend and produce human language. Nonetheless, with the continuous evolution of AI, concerns related to ethics and regulations have gained prominence. AI-fueled automation and robotics are reshaping industries by boosting efficiency and precision in operations.\n",
       "\n",
       "Leading tech giants like Google, Amazon, Microsoft, IBM, Tesla, and OpenAI are spearheading AI innovation. These key players are propelling progress in AI technology and shaping the industry's future. Google's deep learning initiatives, Amazon's AI-driven recommendations, and Tesla's self-driving advancements are just a few examples of how these companies are revolutionizing the realm of artificial intelligence.\n",
       "\n",
       "Recent breakthroughs in AI research have led to promising applications in healthcare, finance, transportation, and more. AI is being leveraged to enhance patient care, streamline financial procedures, and elevate transportation systems. Nevertheless, the impact of AI on the job market and society remains a subject of debate. As AI technology advances further, future projections indicate even more substantial progress in the field, with implications for all facets of society.\n",
       "\n",
       "Tech-savvy individuals, business professionals, students, and researchers keen on AI technology will discover valuable insights in the latest trends and key players in the AI sector. By staying abreast of the forthcoming implications of AI on society, individuals can make informed decisions and brace themselves for the swiftly evolving AI landscape.\n",
       "\n",
       "In conclusion, the future of artificial intelligence appears promising, with remarkable developments in machine learning, NLP, ethics, and automation. By tracking the latest trends and key players in the AI industry, individuals can remain informed and contribute to the continuous advancements in technology. Keep up with the latest trends and advancements in Artificial Intelligence by subscribing to our newsletter for regular updates on AI news and developments.\n",
       "\n",
       "*Stay informed, stay ahead!*"
      ],
      "text/plain": [
       "<IPython.core.display.Markdown object>"
      ]
     },
     "execution_count": 12,
     "metadata": {},
     "output_type": "execute_result"
    }
   ],
   "source": [
    "from IPython.display import Markdown\n",
    "Markdown(result)"
   ]
  },
  {
   "cell_type": "markdown",
   "metadata": {},
   "source": [
    "## Try it Yourself\n",
    "\n",
    "- Pass in a topic of your choice and see what the agents come up with!"
   ]
  },
  {
   "cell_type": "code",
   "execution_count": 14,
   "metadata": {
    "height": 47
   },
   "outputs": [
    {
     "name": "stdout",
     "output_type": "stream",
     "text": [
      "\u001b[1m\u001b[95m [DEBUG]: == Working Agent: Content Planner\u001b[00m\n",
      "\u001b[1m\u001b[95m [INFO]: == Starting Task: 1. Prioritize the latest trends, key players, and noteworthy news on Ai Agents and Ai Agencies.\n",
      "2. Identify the target audience, considering their interests and pain points.\n",
      "3. Develop a detailed content outline including an introduction, key points, and a call to action.\n",
      "4. Include SEO keywords and relevant data or sources.\u001b[00m\n",
      "\n",
      "\n",
      "\u001b[1m> Entering new CrewAgentExecutor chain...\u001b[0m\n",
      "\u001b[32;1m\u001b[1;3mI now can give a great answer\n",
      "\n",
      "Final Answer: \n",
      "\n",
      "Content Plan: Ai Agents and Ai Agencies\n",
      "\n",
      "Outline:\n",
      "I. Introduction\n",
      "- Definition of Ai Agents and Ai Agencies\n",
      "- Importance of Ai in the business world\n",
      "II. Latest Trends in Ai Agents and Ai Agencies\n",
      "- Integration of Ai in customer service\n",
      "- Personalization and customization through Ai\n",
      "- Growth of Ai-powered virtual assistants\n",
      "III. Key Players in the Ai Industry\n",
      "- Google's AI-powered products and services\n",
      "- IBM Watson\n",
      "- Amazon Web Services\n",
      "IV. Noteworthy News in Ai Agents and Ai Agencies\n",
      "- Recent partnerships and collaborations in the Ai industry\n",
      "- Impact of Ai on various industries\n",
      "V. Target Audience Analysis\n",
      "- Businesses looking to implement Ai technology\n",
      "- Entrepreneurs interested in Ai solutions\n",
      "- Marketers seeking to understand the role of Ai in advertising\n",
      "VI. SEO Keywords\n",
      "- Ai Agents\n",
      "- Ai Agencies\n",
      "- Artificial Intelligence trends\n",
      "- Virtual Assistants\n",
      "VII. Resources\n",
      "- Forbes - \"The Future of Ai in Business\"\n",
      "- TechCrunch - \"Latest Developments in Artificial Intelligence\"\n",
      "- Harvard Business Review - \"How Ai is Transforming Industries\"\n",
      "\n",
      "Call to Action:\n",
      "- Contact us for personalized Ai solutions tailored to your business needs\n",
      "\n",
      "This comprehensive content plan provides a detailed outline of the blog article on Ai Agents and Ai Agencies, focusing on the latest trends, key players, and noteworthy news in the industry. The target audience analysis helps tailor the content to the interests and pain points of readers, while the inclusion of SEO keywords ensures visibility and relevance. The list of resources offers credible sources for further reading and research on the topic.\u001b[0m\n",
      "\n",
      "\u001b[1m> Finished chain.\u001b[0m\n",
      "\u001b[1m\u001b[92m [DEBUG]: == [Content Planner] Task output: Content Plan: Ai Agents and Ai Agencies\n",
      "\n",
      "Outline:\n",
      "I. Introduction\n",
      "- Definition of Ai Agents and Ai Agencies\n",
      "- Importance of Ai in the business world\n",
      "II. Latest Trends in Ai Agents and Ai Agencies\n",
      "- Integration of Ai in customer service\n",
      "- Personalization and customization through Ai\n",
      "- Growth of Ai-powered virtual assistants\n",
      "III. Key Players in the Ai Industry\n",
      "- Google's AI-powered products and services\n",
      "- IBM Watson\n",
      "- Amazon Web Services\n",
      "IV. Noteworthy News in Ai Agents and Ai Agencies\n",
      "- Recent partnerships and collaborations in the Ai industry\n",
      "- Impact of Ai on various industries\n",
      "V. Target Audience Analysis\n",
      "- Businesses looking to implement Ai technology\n",
      "- Entrepreneurs interested in Ai solutions\n",
      "- Marketers seeking to understand the role of Ai in advertising\n",
      "VI. SEO Keywords\n",
      "- Ai Agents\n",
      "- Ai Agencies\n",
      "- Artificial Intelligence trends\n",
      "- Virtual Assistants\n",
      "VII. Resources\n",
      "- Forbes - \"The Future of Ai in Business\"\n",
      "- TechCrunch - \"Latest Developments in Artificial Intelligence\"\n",
      "- Harvard Business Review - \"How Ai is Transforming Industries\"\n",
      "\n",
      "Call to Action:\n",
      "- Contact us for personalized Ai solutions tailored to your business needs\n",
      "\n",
      "This comprehensive content plan provides a detailed outline of the blog article on Ai Agents and Ai Agencies, focusing on the latest trends, key players, and noteworthy news in the industry. The target audience analysis helps tailor the content to the interests and pain points of readers, while the inclusion of SEO keywords ensures visibility and relevance. The list of resources offers credible sources for further reading and research on the topic.\n",
      "\n",
      "\u001b[00m\n",
      "\u001b[1m\u001b[95m [DEBUG]: == Working Agent: Content Writer\u001b[00m\n",
      "\u001b[1m\u001b[95m [INFO]: == Starting Task: 1. Use the content plan to craft a compelling blog post on Ai Agents and Ai Agencies.\n",
      "2. Incorporate SEO keywords naturally.\n",
      "3. Sections/Subtitles are properly named in an engaging manner.\n",
      "4. Ensure the post is structured with an engaging introduction, insightful body, and a summarizing conclusion.\n",
      "5. Proofread for grammatical errors and alignment with the brand's voice.\n",
      "\u001b[00m\n",
      "\n",
      "\n",
      "\u001b[1m> Entering new CrewAgentExecutor chain...\u001b[0m\n",
      "\u001b[32;1m\u001b[1;3mI now can give a great answer\n",
      "\n",
      "Final Answer:\n",
      "\n",
      "# The Rise of Ai Agents and Ai Agencies in Today's Business Landscape\n",
      "\n",
      "In today's rapidly evolving business landscape, the integration of Artificial Intelligence (Ai) has become increasingly prevalent, with Ai Agents and Ai Agencies playing a pivotal role in shaping the future of industries. Ai Agents refer to intelligent software programs that mimic human-like interactions, while Ai Agencies are specialized firms that offer Ai solutions and services to businesses. The importance of Ai in the business world cannot be understated, as it enables automation, data analysis, and personalized customer experiences at scale.\n",
      "\n",
      "## Latest Trends in Ai Agents and Ai Agencies\n",
      "\n",
      "One of the latest trends in Ai Agents and Ai Agencies is the integration of Ai in customer service. Companies are leveraging Ai-powered chatbots and virtual assistants to provide real-time support and streamline customer interactions. Additionally, personalization and customization through Ai have become key focus areas, as businesses seek to deliver tailored experiences to their customers. The growth of Ai-powered virtual assistants, such as Siri and Alexa, further demonstrates the increasing reliance on Ai technology in everyday life.\n",
      "\n",
      "## Key Players in the Ai Industry\n",
      "\n",
      "Leading the charge in the Ai industry are key players such as Google, with its wide array of Ai-powered products and services, including Google Assistant and Google Cloud Ai. IBM Watson is another prominent player, offering advanced Ai solutions for businesses across various sectors. Amazon Web Services (AWS) also stands out for its robust Ai capabilities, catering to the growing demand for Ai-powered technologies in the cloud.\n",
      "\n",
      "## Noteworthy News in Ai Agents and Ai Agencies\n",
      "\n",
      "Recent partnerships and collaborations in the Ai industry have been making headlines, as companies join forces to drive innovation and expand their Ai offerings. The impact of Ai on various industries, from healthcare to finance, is evident as organizations harness the power of Ai to gain competitive advantages and improve operational efficiency.\n",
      "\n",
      "## Target Audience Analysis\n",
      "\n",
      "Businesses looking to implement Ai technology, entrepreneurs interested in Ai solutions, and marketers seeking to understand the role of Ai in advertising are the primary target audience for Ai Agents and Ai Agencies. By addressing the specific needs and interests of these groups, Ai service providers can tailor their offerings and messaging to resonate with potential clients.\n",
      "\n",
      "In conclusion, Ai Agents and Ai Agencies are at the forefront of the technological revolution, offering innovative solutions and services that drive business growth and competitiveness. By staying abreast of the latest trends, key players, and noteworthy news in the Ai industry, businesses can leverage Ai technology to stay ahead of the curve and meet the evolving needs of their customers. Contact us for personalized Ai solutions tailored to your business needs and unlock the full potential of Ai in your organization.\n",
      "\n",
      "Sources:\n",
      "- Forbes - \"The Future of Ai in Business\"\n",
      "- TechCrunch - \"Latest Developments in Artificial Intelligence\"\n",
      "- Harvard Business Review - \"How Ai is Transforming Industries\"\u001b[0m\n",
      "\n",
      "\u001b[1m> Finished chain.\u001b[0m\n",
      "\u001b[1m\u001b[92m [DEBUG]: == [Content Writer] Task output: # The Rise of Ai Agents and Ai Agencies in Today's Business Landscape\n",
      "\n",
      "In today's rapidly evolving business landscape, the integration of Artificial Intelligence (Ai) has become increasingly prevalent, with Ai Agents and Ai Agencies playing a pivotal role in shaping the future of industries. Ai Agents refer to intelligent software programs that mimic human-like interactions, while Ai Agencies are specialized firms that offer Ai solutions and services to businesses. The importance of Ai in the business world cannot be understated, as it enables automation, data analysis, and personalized customer experiences at scale.\n",
      "\n",
      "## Latest Trends in Ai Agents and Ai Agencies\n",
      "\n",
      "One of the latest trends in Ai Agents and Ai Agencies is the integration of Ai in customer service. Companies are leveraging Ai-powered chatbots and virtual assistants to provide real-time support and streamline customer interactions. Additionally, personalization and customization through Ai have become key focus areas, as businesses seek to deliver tailored experiences to their customers. The growth of Ai-powered virtual assistants, such as Siri and Alexa, further demonstrates the increasing reliance on Ai technology in everyday life.\n",
      "\n",
      "## Key Players in the Ai Industry\n",
      "\n",
      "Leading the charge in the Ai industry are key players such as Google, with its wide array of Ai-powered products and services, including Google Assistant and Google Cloud Ai. IBM Watson is another prominent player, offering advanced Ai solutions for businesses across various sectors. Amazon Web Services (AWS) also stands out for its robust Ai capabilities, catering to the growing demand for Ai-powered technologies in the cloud.\n",
      "\n",
      "## Noteworthy News in Ai Agents and Ai Agencies\n",
      "\n",
      "Recent partnerships and collaborations in the Ai industry have been making headlines, as companies join forces to drive innovation and expand their Ai offerings. The impact of Ai on various industries, from healthcare to finance, is evident as organizations harness the power of Ai to gain competitive advantages and improve operational efficiency.\n",
      "\n",
      "## Target Audience Analysis\n",
      "\n",
      "Businesses looking to implement Ai technology, entrepreneurs interested in Ai solutions, and marketers seeking to understand the role of Ai in advertising are the primary target audience for Ai Agents and Ai Agencies. By addressing the specific needs and interests of these groups, Ai service providers can tailor their offerings and messaging to resonate with potential clients.\n",
      "\n",
      "In conclusion, Ai Agents and Ai Agencies are at the forefront of the technological revolution, offering innovative solutions and services that drive business growth and competitiveness. By staying abreast of the latest trends, key players, and noteworthy news in the Ai industry, businesses can leverage Ai technology to stay ahead of the curve and meet the evolving needs of their customers. Contact us for personalized Ai solutions tailored to your business needs and unlock the full potential of Ai in your organization.\n",
      "\n",
      "Sources:\n",
      "- Forbes - \"The Future of Ai in Business\"\n",
      "- TechCrunch - \"Latest Developments in Artificial Intelligence\"\n",
      "- Harvard Business Review - \"How Ai is Transforming Industries\"\n",
      "\n",
      "\u001b[00m\n",
      "\u001b[1m\u001b[95m [DEBUG]: == Working Agent: Editor\u001b[00m\n",
      "\u001b[1m\u001b[95m [INFO]: == Starting Task: Proofread the given blog post for grammatical errors and alignment with the brand's voice.\u001b[00m\n",
      "\n",
      "\n",
      "\u001b[1m> Entering new CrewAgentExecutor chain...\u001b[0m\n"
     ]
    },
    {
     "name": "stdout",
     "output_type": "stream",
     "text": [
      "\u001b[32;1m\u001b[1;3mI now can give a great answer\n",
      "\n",
      "Final Answer:\n",
      "# The Rise of Ai Agents and Ai Agencies in Today's Business Landscape\n",
      "\n",
      "In today's rapidly evolving business landscape, the integration of Artificial Intelligence (Ai) has become increasingly prevalent, with Ai Agents and Ai Agencies playing a pivotal role in shaping the future of industries. Ai Agents refer to intelligent software programs that mimic human-like interactions, while Ai Agencies are specialized firms that offer Ai solutions and services to businesses. The importance of Ai in the business world cannot be understated, as it enables automation, data analysis, and personalized customer experiences at scale.\n",
      "\n",
      "## Latest Trends in Ai Agents and Ai Agencies\n",
      "\n",
      "One of the latest trends in Ai Agents and Ai Agencies is the integration of Ai in customer service. Companies are leveraging Ai-powered chatbots and virtual assistants to provide real-time support and streamline customer interactions. Additionally, personalization and customization through Ai have become key focus areas, as businesses seek to deliver tailored experiences to their customers. The growth of Ai-powered virtual assistants, such as Siri and Alexa, further demonstrates the increasing reliance on Ai technology in everyday life.\n",
      "\n",
      "## Key Players in the Ai Industry\n",
      "\n",
      "Leading the charge in the Ai industry are key players such as Google, with its wide array of Ai-powered products and services, including Google Assistant and Google Cloud Ai. IBM Watson is another prominent player, offering advanced Ai solutions for businesses across various sectors. Amazon Web Services (AWS) also stands out for its robust Ai capabilities, catering to the growing demand for Ai-powered technologies in the cloud.\n",
      "\n",
      "## Noteworthy News in Ai Agents and Ai Agencies\n",
      "\n",
      "Recent partnerships and collaborations in the Ai industry have been making headlines, as companies join forces to drive innovation and expand their Ai offerings. The impact of Ai on various industries, from healthcare to finance, is evident as organizations harness the power of Ai to gain competitive advantages and improve operational efficiency.\n",
      "\n",
      "## Target Audience Analysis\n",
      "\n",
      "Businesses looking to implement Ai technology, entrepreneurs interested in Ai solutions, and marketers seeking to understand the role of Ai in advertising are the primary target audience for Ai Agents and Ai Agencies. By addressing the specific needs and interests of these groups, Ai service providers can tailor their offerings and messaging to resonate with potential clients.\n",
      "\n",
      "In conclusion, Ai Agents and Ai Agencies are at the forefront of the technological revolution, offering innovative solutions and services that drive business growth and competitiveness. By staying abreast of the latest trends, key players, and noteworthy news in the Ai industry, businesses can leverage Ai technology to stay ahead of the curve and meet the evolving needs of their customers. Contact us for personalized Ai solutions tailored to your business needs and unlock the full potential of Ai in your organization.\n",
      "\n",
      "Sources:\n",
      "- Forbes - \"The Future of Ai in Business\"\n",
      "- TechCrunch - \"Latest Developments in Artificial Intelligence\"\n",
      "- Harvard Business Review - \"How Ai is Transforming Industries\"\u001b[0m\n",
      "\n",
      "\u001b[1m> Finished chain.\u001b[0m\n",
      "\u001b[1m\u001b[92m [DEBUG]: == [Editor] Task output: # The Rise of Ai Agents and Ai Agencies in Today's Business Landscape\n",
      "\n",
      "In today's rapidly evolving business landscape, the integration of Artificial Intelligence (Ai) has become increasingly prevalent, with Ai Agents and Ai Agencies playing a pivotal role in shaping the future of industries. Ai Agents refer to intelligent software programs that mimic human-like interactions, while Ai Agencies are specialized firms that offer Ai solutions and services to businesses. The importance of Ai in the business world cannot be understated, as it enables automation, data analysis, and personalized customer experiences at scale.\n",
      "\n",
      "## Latest Trends in Ai Agents and Ai Agencies\n",
      "\n",
      "One of the latest trends in Ai Agents and Ai Agencies is the integration of Ai in customer service. Companies are leveraging Ai-powered chatbots and virtual assistants to provide real-time support and streamline customer interactions. Additionally, personalization and customization through Ai have become key focus areas, as businesses seek to deliver tailored experiences to their customers. The growth of Ai-powered virtual assistants, such as Siri and Alexa, further demonstrates the increasing reliance on Ai technology in everyday life.\n",
      "\n",
      "## Key Players in the Ai Industry\n",
      "\n",
      "Leading the charge in the Ai industry are key players such as Google, with its wide array of Ai-powered products and services, including Google Assistant and Google Cloud Ai. IBM Watson is another prominent player, offering advanced Ai solutions for businesses across various sectors. Amazon Web Services (AWS) also stands out for its robust Ai capabilities, catering to the growing demand for Ai-powered technologies in the cloud.\n",
      "\n",
      "## Noteworthy News in Ai Agents and Ai Agencies\n",
      "\n",
      "Recent partnerships and collaborations in the Ai industry have been making headlines, as companies join forces to drive innovation and expand their Ai offerings. The impact of Ai on various industries, from healthcare to finance, is evident as organizations harness the power of Ai to gain competitive advantages and improve operational efficiency.\n",
      "\n",
      "## Target Audience Analysis\n",
      "\n",
      "Businesses looking to implement Ai technology, entrepreneurs interested in Ai solutions, and marketers seeking to understand the role of Ai in advertising are the primary target audience for Ai Agents and Ai Agencies. By addressing the specific needs and interests of these groups, Ai service providers can tailor their offerings and messaging to resonate with potential clients.\n",
      "\n",
      "In conclusion, Ai Agents and Ai Agencies are at the forefront of the technological revolution, offering innovative solutions and services that drive business growth and competitiveness. By staying abreast of the latest trends, key players, and noteworthy news in the Ai industry, businesses can leverage Ai technology to stay ahead of the curve and meet the evolving needs of their customers. Contact us for personalized Ai solutions tailored to your business needs and unlock the full potential of Ai in your organization.\n",
      "\n",
      "Sources:\n",
      "- Forbes - \"The Future of Ai in Business\"\n",
      "- TechCrunch - \"Latest Developments in Artificial Intelligence\"\n",
      "- Harvard Business Review - \"How Ai is Transforming Industries\"\n",
      "\n",
      "\u001b[00m\n"
     ]
    }
   ],
   "source": [
    "topic = \"Ai Agents and Ai Agencies\"\n",
    "result = crew.kickoff(inputs={\"topic\": topic})"
   ]
  },
  {
   "cell_type": "code",
   "execution_count": 15,
   "metadata": {
    "height": 30
   },
   "outputs": [
    {
     "data": {
      "text/markdown": [
       "# The Rise of Ai Agents and Ai Agencies in Today's Business Landscape\n",
       "\n",
       "In today's rapidly evolving business landscape, the integration of Artificial Intelligence (Ai) has become increasingly prevalent, with Ai Agents and Ai Agencies playing a pivotal role in shaping the future of industries. Ai Agents refer to intelligent software programs that mimic human-like interactions, while Ai Agencies are specialized firms that offer Ai solutions and services to businesses. The importance of Ai in the business world cannot be understated, as it enables automation, data analysis, and personalized customer experiences at scale.\n",
       "\n",
       "## Latest Trends in Ai Agents and Ai Agencies\n",
       "\n",
       "One of the latest trends in Ai Agents and Ai Agencies is the integration of Ai in customer service. Companies are leveraging Ai-powered chatbots and virtual assistants to provide real-time support and streamline customer interactions. Additionally, personalization and customization through Ai have become key focus areas, as businesses seek to deliver tailored experiences to their customers. The growth of Ai-powered virtual assistants, such as Siri and Alexa, further demonstrates the increasing reliance on Ai technology in everyday life.\n",
       "\n",
       "## Key Players in the Ai Industry\n",
       "\n",
       "Leading the charge in the Ai industry are key players such as Google, with its wide array of Ai-powered products and services, including Google Assistant and Google Cloud Ai. IBM Watson is another prominent player, offering advanced Ai solutions for businesses across various sectors. Amazon Web Services (AWS) also stands out for its robust Ai capabilities, catering to the growing demand for Ai-powered technologies in the cloud.\n",
       "\n",
       "## Noteworthy News in Ai Agents and Ai Agencies\n",
       "\n",
       "Recent partnerships and collaborations in the Ai industry have been making headlines, as companies join forces to drive innovation and expand their Ai offerings. The impact of Ai on various industries, from healthcare to finance, is evident as organizations harness the power of Ai to gain competitive advantages and improve operational efficiency.\n",
       "\n",
       "## Target Audience Analysis\n",
       "\n",
       "Businesses looking to implement Ai technology, entrepreneurs interested in Ai solutions, and marketers seeking to understand the role of Ai in advertising are the primary target audience for Ai Agents and Ai Agencies. By addressing the specific needs and interests of these groups, Ai service providers can tailor their offerings and messaging to resonate with potential clients.\n",
       "\n",
       "In conclusion, Ai Agents and Ai Agencies are at the forefront of the technological revolution, offering innovative solutions and services that drive business growth and competitiveness. By staying abreast of the latest trends, key players, and noteworthy news in the Ai industry, businesses can leverage Ai technology to stay ahead of the curve and meet the evolving needs of their customers. Contact us for personalized Ai solutions tailored to your business needs and unlock the full potential of Ai in your organization.\n",
       "\n",
       "Sources:\n",
       "- Forbes - \"The Future of Ai in Business\"\n",
       "- TechCrunch - \"Latest Developments in Artificial Intelligence\"\n",
       "- Harvard Business Review - \"How Ai is Transforming Industries\""
      ],
      "text/plain": [
       "<IPython.core.display.Markdown object>"
      ]
     },
     "execution_count": 15,
     "metadata": {},
     "output_type": "execute_result"
    }
   ],
   "source": [
    "Markdown(result)"
   ]
  },
  {
   "cell_type": "markdown",
   "metadata": {},
   "source": [
    "<a name='1'></a>\n",
    " ## Other Popular Models as LLM for your Agents"
   ]
  },
  {
   "cell_type": "markdown",
   "metadata": {},
   "source": [
    "#### Hugging Face (HuggingFaceHub endpoint)\n",
    "\n",
    "```Python\n",
    "from langchain_community.llms import HuggingFaceHub\n",
    "\n",
    "llm = HuggingFaceHub(\n",
    "    repo_id=\"HuggingFaceH4/zephyr-7b-beta\",\n",
    "    huggingfacehub_api_token=\"<HF_TOKEN_HERE>\",\n",
    "    task=\"text-generation\",\n",
    ")\n",
    "\n",
    "### you will pass \"llm\" to your agent function\n",
    "```"
   ]
  },
  {
   "cell_type": "markdown",
   "metadata": {},
   "source": [
    "#### Mistral API\n",
    "\n",
    "```Python\n",
    "OPENAI_API_KEY=your-mistral-api-key\n",
    "OPENAI_API_BASE=https://api.mistral.ai/v1\n",
    "OPENAI_MODEL_NAME=\"mistral-small\"\n",
    "```"
   ]
  },
  {
   "cell_type": "markdown",
   "metadata": {},
   "source": [
    "#### Cohere\n",
    "\n",
    "```Python\n",
    "from langchain_community.chat_models import ChatCohere\n",
    "# Initialize language model\n",
    "os.environ[\"COHERE_API_KEY\"] = \"your-cohere-api-key\"\n",
    "llm = ChatCohere()\n",
    "\n",
    "### you will pass \"llm\" to your agent function\n",
    "```"
   ]
  },
  {
   "cell_type": "markdown",
   "metadata": {},
   "source": [
    "### For using Llama locally with Ollama and more, checkout the crewAI documentation on [Connecting to any LLM](https://docs.crewai.com/how-to/LLM-Connections/)."
   ]
  },
  {
   "cell_type": "code",
   "execution_count": null,
   "metadata": {
    "height": 30
   },
   "outputs": [],
   "source": []
  },
  {
   "cell_type": "code",
   "execution_count": null,
   "metadata": {
    "height": 30
   },
   "outputs": [],
   "source": []
  },
  {
   "cell_type": "code",
   "execution_count": null,
   "metadata": {
    "height": 30
   },
   "outputs": [],
   "source": []
  }
 ],
 "metadata": {
  "colab": {
   "gpuType": "T4",
   "provenance": []
  },
  "kernelspec": {
   "display_name": "Python 3 (ipykernel)",
   "language": "python",
   "name": "python3"
  },
  "language_info": {
   "codemirror_mode": {
    "name": "ipython",
    "version": 3
   },
   "file_extension": ".py",
   "mimetype": "text/x-python",
   "name": "python",
   "nbconvert_exporter": "python",
   "pygments_lexer": "ipython3",
   "version": "3.11.9"
  }
 },
 "nbformat": 4,
 "nbformat_minor": 4
}
